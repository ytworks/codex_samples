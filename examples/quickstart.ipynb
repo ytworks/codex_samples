{
 "cells": [
  {
   "cell_type": "markdown",
   "metadata": {},
   "source": [
    "# Pharmacophore Screening Quickstart\n",
    "Run 2D and 3D examples using sample data."
   ]
  },
  {
   "cell_type": "code",
   "execution_count": null,
   "metadata": {},
   "outputs": [],
   "source": [
    "from pharmacophore_screening import PharmacophoreScreener\n",
    "LIB = 'samples/compounds_small.csv'\n",
    "PH4 = 'samples/pharmacophore_example.csv'\n",
    "!head -n 5 $LIB\n",
    "!head -n 5 $PH4"
   ]
  },
  {
   "cell_type": "code",
   "execution_count": null,
   "metadata": {},
   "outputs": [],
   "source": [
    "s2d = PharmacophoreScreener(mode='2D')\n",
    "res2d = s2d.screen(query_smiles='CCO', library_csv=LIB, similarity_threshold=0.0)\n",
    "res2d.df.head()"
   ]
  },
  {
   "cell_type": "code",
   "execution_count": null,
   "metadata": {},
   "outputs": [],
   "source": [
    "s3d = PharmacophoreScreener(mode='3D')\n",
    "res3d = s3d.screen(pharmacophore_csv=PH4, library_csv=LIB, n_conformers=2)\n",
    "res3d.df.head()"
   ]
  }
 ],
 "metadata": {
  "kernelspec": {
   "display_name": "Python 3",
   "language": "python",
   "name": "python3"
  },
  "language_info": {
   "name": "python",
   "version": "3"
  }
 },
 "nbformat": 4,
 "nbformat_minor": 5
}

